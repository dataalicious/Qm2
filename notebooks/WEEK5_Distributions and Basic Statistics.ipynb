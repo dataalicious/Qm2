{
  "cells": [
    {
      "cell_type": "markdown",
      "metadata": {
        "id": "Lads9rv6exJ-"
      },
      "source": [
        "# Distributions and Basic Statistics\n",
        "\n",
        "## *Workshop 5*  [![Open In Colab](https://github.com/oballinger/QM2/blob/main/colab-badge.png?raw=1)](https://colab.research.google.com/github/oballinger/QM2/blob/main/notebooks/W05.%20Distributions%20and%20Basic%20Statistics.ipynb)\n",
        "\n",
        "For the rest of this course, we'll be working with data from the U.S. Census [Current Population Survey (CPS)](https://www.census.gov/programs-surveys/cps.html). \n",
        "\n",
        "### Aims:\n",
        "\n",
        "- Choosing appropriate summary statistics for varying distributions\n",
        "\n",
        "- Understanding:\n",
        "    - The nature of our dataset, including potential bias\n",
        "    - How to generate summary statistics for our dataset\n",
        "    - The distribution of different variables\n",
        "    - The intuition behind the Central Limit Theorem\n",
        "\n",
        "## Getting Started\n",
        "\n",
        "### First Things First: Bias\n",
        "Once we've acquired a dataset, the first step is *always* to develop an understanding of where the data has come from. For this dataset, use the following [documentation page](https://www.census.gov/programs-surveys/cps/technical-documentation/methodology.html) to answer the questions below: \n",
        "\n",
        "1) What is the population of interest?\n",
        "2) What was the sampling strategy?\n",
        "3) What are potential sources of selection bias?"
      ]
    },
    {
      "cell_type": "markdown",
      "metadata": {
        "id": "5KugRUBXRUqf"
      },
      "source": [
        "I'll start by importing the libraries I need: matplotlib (for graphs), pandas (for data), numpy (for maths) and random (for generating random numbers):"
      ]
    },
    {
      "cell_type": "code",
      "execution_count": null,
      "metadata": {
        "id": "5ERdQ-QjexKB",
        "vscode": {
          "languageId": "python"
        }
      },
      "outputs": [],
      "source": [
        "#This tells python to draw the graphs \"inline\" - in the notebook\n",
        "%matplotlib inline  \n",
        "import matplotlib.pyplot as plt\n",
        "from scipy.stats import norm\n",
        "import statistics\n",
        "import seaborn as sns\n",
        "\n",
        "import pylab\n",
        "import pandas as pd\n",
        "import numpy as np\n",
        "# make the plots (graphs) a little wider by default\n",
        "pylab.rcParams['figure.figsize'] = (10., 8.)\n",
        "sns.set(font_scale=1.5)\n",
        "sns.set_style(\"white\")"
      ]
    },
    {
      "cell_type": "code",
      "execution_count": null,
      "metadata": {
        "colab": {
          "base_uri": "https://localhost:8080/"
        },
        "id": "0EJnrTdlhcfc",
        "outputId": "d585f549-6d26-4927-8a95-881a66072bdf",
        "vscode": {
          "languageId": "python"
        }
      },
      "outputs": [],
      "source": [
        "!mkdir data\n",
        "!mkdir data/wk7\n",
        "!curl https://storage.googleapis.com/qm2/wk7/cps.csv -o data/wk7/cps.csv"
      ]
    },
    {
      "cell_type": "markdown",
      "metadata": {
        "id": "WF91-0u5exKF"
      },
      "source": [
        "Now that I've imported the libraries I'm going to be using, I'm ready to import the data: "
      ]
    },
    {
      "cell_type": "code",
      "execution_count": null,
      "metadata": {
        "colab": {
          "base_uri": "https://localhost:8080/",
          "height": 206
        },
        "id": "muDRf4bjexKG",
        "outputId": "eaa86222-5f24-416a-c119-45cf3782f65a",
        "vscode": {
          "languageId": "python"
        }
      },
      "outputs": [],
      "source": [
        "df=pd.read_csv('./data/wk7/cps.csv')\n",
        "df.head()"
      ]
    },
    {
      "cell_type": "markdown",
      "metadata": {
        "id": "E9YTGTBCRUqh"
      },
      "source": [
        "Our dataframe has 10 columns:\n",
        "\n",
        "1. *year*: Survey year\n",
        "2. *age*: the person's age\n",
        "3. *sex*: the person's sex \n",
        "    * 1=male\n",
        "    * 2=female\n",
        "4. *race*: the person's race \n",
        "    * White non hispanic=1\n",
        "    * Black non hispanic=2\n",
        "    * Hispanic=3\n",
        "    * Other non hispanic=4)\n",
        "5. *sch*: Educational attainment\n",
        "    * None = 0, \n",
        "    * Grades 1-12 = 1-12\n",
        "    * Some University = 13, \n",
        "    * Associate's degree = 14, \n",
        "    * BA = 16\n",
        "    * Advanced Degree = 18\n",
        "6. *union*: Union membership \n",
        "    * N/A = 0, \n",
        "    * No union coverage = 1, \n",
        "    * Member of labor union=2, \n",
        "    * Covered by union but not a member=3\n",
        "7. *incwage*: Wage and salary income\n",
        "8. *realhrwage*: Real Hourly Wage\n",
        "9. *occupation*: Occupation\n",
        "10. *ind*: [industry code](https://www.census.gov/naics/?58967?yearbck=2002)"
      ]
    },
    {
      "cell_type": "markdown",
      "metadata": {
        "id": "lSxULT0FexKJ"
      },
      "source": [
        "\n",
        "## Summary Statistics\n",
        "\n",
        "After thinking about the origins of our dataset and loading it into python, the next step is to generate summary statistics. This is vital for us to better understand our data. Pandas has a useful function, `describe`, which will generate summary statistics for all numerical variables in our entire dataframe:"
      ]
    },
    {
      "cell_type": "code",
      "execution_count": null,
      "metadata": {
        "colab": {
          "base_uri": "https://localhost:8080/",
          "height": 300
        },
        "id": "UF4J5mobexKK",
        "outputId": "dbaccbc3-e7fc-462f-eda6-5c78029bb630",
        "vscode": {
          "languageId": "python"
        }
      },
      "outputs": [],
      "source": [
        "df.describe()"
      ]
    },
    {
      "cell_type": "markdown",
      "metadata": {
        "id": "7LmZkRUWooyy"
      },
      "source": [
        "`describe` returns a dataframe with the same columns as the source dataframe. For numeric data, the result’s index will include count, mean, std, min, max as well as lower, 50 and upper percentiles. By default the lower percentile is 25 and the upper percentile is 75. The 50 percentile is the same as the median. \"incwage\" is the annual income variable. Because values are generally in the tens of thousands, Python displays this using scientific notation (e.g. 3.442870e+05). This is pretty ugly, so let's create a new variable called \"income\" which divides that number by 1000 to make it more manageable:"
      ]
    },
    {
      "cell_type": "code",
      "execution_count": null,
      "metadata": {
        "colab": {
          "base_uri": "https://localhost:8080/"
        },
        "id": "emY_Ymgoojuc",
        "outputId": "9916c0fc-2ef4-4a91-a59d-e47f02969b64",
        "vscode": {
          "languageId": "python"
        }
      },
      "outputs": [],
      "source": [
        "df['income']=df['incwage']/1000\n",
        "print(df['income'])"
      ]
    },
    {
      "cell_type": "markdown",
      "metadata": {
        "id": "4eNWg12yexKN"
      },
      "source": [
        "\n",
        "### Exercise\n",
        "Given these summary statistics, answer the following questions: \n",
        "\n",
        "1. what is the median hourly wage?\n",
        "2. what is the average age?\n",
        "3. are there more men or women?\n",
        "4. intepret the mean of the \"race\" column. \n"
      ]
    },
    {
      "cell_type": "markdown",
      "metadata": {
        "id": "QpmXB-BPoTT0"
      },
      "source": [
        "The answer to the last question should provoke some futher thought; the race column is categorical, but because it contains numbers it's being treated as numerical. The mean of a categorical variable is meaningless; For object data (e.g. categories, strings or timestamps), the result’s index will include count, unique, top, and freq. The top is the most common value. The freq is the most common value’s frequency. Timestamps also include the first and last items.\n",
        "\n",
        "Let's convert the race column from a numerical variable into a categorical one, and try `describe` once again:"
      ]
    },
    {
      "cell_type": "code",
      "execution_count": null,
      "metadata": {
        "colab": {
          "base_uri": "https://localhost:8080/"
        },
        "id": "bPz8p27bRUqj",
        "outputId": "7fa93b7f-5807-435f-c0be-e23ba21364f9",
        "vscode": {
          "languageId": "python"
        }
      },
      "outputs": [],
      "source": [
        "df.dtypes"
      ]
    },
    {
      "cell_type": "code",
      "execution_count": null,
      "metadata": {
        "colab": {
          "base_uri": "https://localhost:8080/"
        },
        "id": "FQor5bCEexKO",
        "outputId": "9643b377-f49d-4376-a008-06a9432db860",
        "vscode": {
          "languageId": "python"
        }
      },
      "outputs": [],
      "source": [
        "df['race']=df['race'].astype('category')\n",
        "df['race'].describe()"
      ]
    },
    {
      "cell_type": "markdown",
      "metadata": {
        "id": "XL164t9CRUqj"
      },
      "source": [
        "what other variables are categorical? Convert them to categorical and describe. What is the most common occupation in this dataset?"
      ]
    },
    {
      "cell_type": "code",
      "execution_count": null,
      "metadata": {
        "id": "PYdTjEvARUqj",
        "vscode": {
          "languageId": "python"
        }
      },
      "outputs": [],
      "source": [
        "# convert the variables to categorical and describe\n",
        "df[['race','occupation']] = df[['race','occupation']].astype('category')\n",
        "from collections import Counter\n",
        "Counter([x for x in df['occupation'] if x != '.']).most_common()[0][0]"
      ]
    },
    {
      "cell_type": "markdown",
      "metadata": {
        "id": "-sOhUmEgRUqj"
      },
      "source": [
        "These statistics are useful, but suppose we want detailed counts of the number of individuals in each category; For this, we can use the `groupby` function, with the `.size()` operator which simply counts the number of rows in each category. "
      ]
    },
    {
      "cell_type": "code",
      "execution_count": null,
      "metadata": {
        "colab": {
          "base_uri": "https://localhost:8080/"
        },
        "id": "VHmlNoBpRUqj",
        "outputId": "9f1abc21-9bf0-47d7-894f-fcacb8765828",
        "vscode": {
          "languageId": "python"
        }
      },
      "outputs": [],
      "source": [
        "occupations= df.groupby('occupation').size()\n",
        "occupations.sort_values(ascending=False)"
      ]
    },
    {
      "cell_type": "markdown",
      "metadata": {
        "id": "S8QRHfdpexKT"
      },
      "source": [
        "What is the most common profession? \n",
        "\n",
        "\n",
        "# Distributions\n",
        "\n",
        "Now that we've cleaned our data up, let's have a closer look at the *distribution* of our data. The best way to do this is using a histogram, which takes one variable and divides its values into a number of bins shown on the X axis, and then counts the number of observations in each of those bins on the Y axis. Let's start by looking at the distribution of the `income` variable:"
      ]
    },
    {
      "cell_type": "code",
      "execution_count": null,
      "metadata": {
        "colab": {
          "base_uri": "https://localhost:8080/",
          "height": 483
        },
        "id": "BcAJvO09RUqk",
        "outputId": "a8c0171e-bfc2-49cf-ad50-019a302f8ff9",
        "vscode": {
          "languageId": "python"
        }
      },
      "outputs": [],
      "source": [
        "df=df[df['year']==2013] # filter the dataframe to only contain 2013 data\n",
        "\n",
        "plt.hist(df['income']) # plot a histogram of the income variable\n",
        "plt.show() # show the plot"
      ]
    },
    {
      "cell_type": "markdown",
      "metadata": {},
      "source": [
        "This is a pretty ugly histogram, and it's not telling us very much useful information. It shows that the vast majority of people make between 0 and $100,000 per year, and a few make over 200k. A small number make over $1 million per year, so the plot is being extended to accomodate these outliers. Let's try fixing the histogram up a bit. "
      ]
    },
    {
      "cell_type": "code",
      "execution_count": null,
      "metadata": {
        "colab": {
          "base_uri": "https://localhost:8080/",
          "height": 513
        },
        "id": "_SmrEOCJRUqk",
        "outputId": "dc491133-f7ac-424b-f427-28ed1514e295",
        "vscode": {
          "languageId": "python"
        }
      },
      "outputs": [],
      "source": [
        "plt.hist(df['income'], bins=100, edgecolor='white', density=True) \n",
        "# i've increased the number of bins to 100 to make the plot smoother,\n",
        "# added the density=True argument to make the y-axis a probability density instead of a count,\n",
        "# and the edgecolor='white' argument to add some space between the bars, making the plot easier to read\n",
        "\n",
        "\n",
        "plt.xlabel('Income ($, thousands)') # add a label to the x axis\n",
        "plt.title(\"U.S. Income Distributon, 2013\") # add a title to the plot\n",
        "\n",
        "plt.show() "
      ]
    },
    {
      "cell_type": "markdown",
      "metadata": {},
      "source": [
        "That's better. We can now see more variation in how much people earn within the \\$0-200,000 range since we increased the number of bins in the histogram. It could still be improved, though. The outliers making over $ 1 million are creating lots of dead space in this plot. We can defensibly omit them from the plot, as long as we acknowledge that we've done this somewhere in our analysis. \n",
        "\n",
        "Let's also plot the mean and median of our distribution. "
      ]
    },
    {
      "cell_type": "code",
      "execution_count": null,
      "metadata": {
        "colab": {
          "base_uri": "https://localhost:8080/",
          "height": 584
        },
        "id": "DkDj9uqKRUqk",
        "outputId": "ec9bc59c-b61b-4c2b-c3fc-35a45f3bf7db",
        "vscode": {
          "languageId": "python"
        }
      },
      "outputs": [],
      "source": [
        "inc_summary=df['income'].describe() # get summary statistics for the income variable using the describe() method, and store them in a variable called inc_summary\n",
        "print(inc_summary[['mean','50%','std']]) # print the mean, median and standard deviation\n",
        "\n",
        "plt.hist(df['income'], bins=100, edgecolor='white', density=True) # plot the histogram again\n",
        "plt.axvline(inc_summary['mean'], color='red', linestyle='dashed', linewidth=1,label='Mean') # get the mean from the inc_summary variable and plot a vertical line in red at that point\n",
        "plt.axvline(inc_summary['50%'], color='black', linestyle='dashed', linewidth=1, label='Median') # do the same for the median, but plot it in black\n",
        "\n",
        "plt.legend()\n",
        "plt.xlabel('Income ($, thousands')\n",
        "plt.title(\"U.S. Income Distributon, 2013\")\n",
        "plt.xlim(0,250) # set the x-axis limits to 0 to 250-- this will get rid of the outliers on the right side of the plot\n",
        "\n",
        "plt.show()"
      ]
    },
    {
      "cell_type": "markdown",
      "metadata": {},
      "source": [
        "This histogram is far more informative-- use the questions in the exercise below to guide your interpretation of this plot. \n",
        "\n",
        "### Exercise\n",
        "\n",
        "1. What is the (approximate) mean of this distribution? \n",
        "2. What is the median? \n",
        "3. Keeping in mind that we've excluded some extreme values, why might the mean be larger than the median? Intepret this qualitatively in reference to income inequality. \n",
        "4. There are slight bumps in density at $100,000, $150,000, $200,000, and $250,000. Why might this be?"
      ]
    },
    {
      "cell_type": "markdown",
      "metadata": {},
      "source": [
        "1. The mean is around 50k USD\n",
        "2. The median is slightly above 40 k\n",
        "3. The US has high social and economic inquality, and there is a massive gap between high income and low income. \n",
        "4. This is probably because of how the Tax system works in the US"
      ]
    },
    {
      "cell_type": "code",
      "execution_count": null,
      "metadata": {
        "vscode": {
          "languageId": "python"
        }
      },
      "outputs": [],
      "source": []
    },
    {
      "cell_type": "markdown",
      "metadata": {},
      "source": [
        "As we have seen, there are a few extreme outliers in the income distribution (really rich people). Outliers can bias some statistical tests, so for the rest of this workbook, we're going to subset our dataframe to exclude those who make over $200k per year:"
      ]
    },
    {
      "cell_type": "code",
      "execution_count": null,
      "metadata": {
        "vscode": {
          "languageId": "python"
        }
      },
      "outputs": [],
      "source": [
        "df=df[df['income']<200]\n"
      ]
    },
    {
      "cell_type": "markdown",
      "metadata": {},
      "source": [
        "## Functions \n",
        "\n",
        "Now we've got a pretty good sense of what's going on with the income variable. But suppose we want to do this for another variable. We could just copy and paste the code above, switch around the variable in question, and edit the labels. But there's a far more efficient way of doing things. In Python and most programming languages, you can write your own **function**. \n",
        "\n",
        "A function is a block of code that you can call on to do a specific task. You can write your own functions, or you can use functions that other people have written. Functions are useful because they allow you to write code once, and then call on it whenever you need it. This is much more efficient than writing the same code over and over again. You can define a function by using the `def` keyword. For example, we can define a function called `variable_stats` that will calculate the mean, median, and standard deviation of the variable tha you specify. "
      ]
    },
    {
      "cell_type": "code",
      "execution_count": null,
      "metadata": {
        "vscode": {
          "languageId": "python"
        }
      },
      "outputs": [],
      "source": [
        "def variable_stats(variable): # define a function called variable_stats that takes a variable as an argument\n",
        "    mean = variable.mean() # calculate the mean of the variable\n",
        "    median = variable.median() # calculate the median of the variable\n",
        "    std = variable.std() # calculate the standard deviation of the variable\n",
        "    print(\"Mean: \" + str(mean)) # print the mean\n",
        "    print(\"Median: \" + str(median)) # print the median\n",
        "    print(\"Standard deviation: \" + str(std)) # print the standard deviation"
      ]
    },
    {
      "cell_type": "code",
      "execution_count": null,
      "metadata": {
        "vscode": {
          "languageId": "python"
        }
      },
      "outputs": [],
      "source": [
        "# We can then call on this function whenever we want to calculate these statistics. \n",
        "\n",
        "variable_stats(df['income']) "
      ]
    },
    {
      "cell_type": "markdown",
      "metadata": {},
      "source": [
        "Now, to calculate the same values for the age variable, we can simply change which variable we feed the function:"
      ]
    },
    {
      "cell_type": "code",
      "execution_count": null,
      "metadata": {
        "vscode": {
          "languageId": "python"
        }
      },
      "outputs": [],
      "source": [
        "variable_stats(df['age']) "
      ]
    },
    {
      "cell_type": "markdown",
      "metadata": {},
      "source": [
        "We can write a more complex function to deal with plotting new histograms for different variables, since most of the code we need to plot a histogram won't change from one variable to the next. A few things will change-- the variable that we're plotting, the title of the graph, and the labels on the x and y axes, and perhaps the number of bins. We can write a function called `plot_histogram`  that takes these four things as arguments, and then plots a histogram. Then, we can call on this function whenever we want to plot a histogram of a new variable. Below is the same code we used to plot the histogram of income, but this time we've written it as a function called `plot_histogram` and substituted the variable name `income` for the argument `variable`."
      ]
    },
    {
      "cell_type": "code",
      "execution_count": null,
      "metadata": {
        "colab": {
          "base_uri": "https://localhost:8080/",
          "height": 513
        },
        "id": "qFXLET9HRUqk",
        "outputId": "b4159584-f642-4ef8-9a8a-818d3edef12e",
        "vscode": {
          "languageId": "python"
        }
      },
      "outputs": [],
      "source": [
        "def plot_histogram(variable, bin_number, xlab, title): # define a function called plot_histogram that takes a variable, number of bins, x-axis label, and title as arguments\n",
        "\t\n",
        "\tsummary=variable.describe() \t\n",
        "\tplt.hist(variable, bins=bin_number,edgecolor='white', density=True) # plot the histogram. Notice i've changed \"bins=100\" to \"bins=bin_number\" so that the number of bins can be specified when the function is called\n",
        "\tplt.axvline(summary['mean'], color='red', linestyle='dashed', linewidth=1,label='Mean '+str(round(summary['mean'],2)))\n",
        "\tplt.axvline(summary['50%'], color='black', linestyle='dashed', linewidth=1, label='Median '+str(round(summary['50%'],2)))\n",
        "\n",
        "\tplt.legend()\n",
        "\tplt.xlabel(xlab) # i've changed the x-axis label to \"xlab\" so that it can be specified when the function is called\n",
        "\tplt.title(title) # similarly, we can now specify the title when calling the function\n",
        "\tplt.show()"
      ]
    },
    {
      "cell_type": "markdown",
      "metadata": {},
      "source": [
        "Now we can just call the function with the variable we want to plot, the number of bins, the x-axis label, and the title using one line of code. Let's recreate the histogram of income from above, but this time using the function we just defined:\n"
      ]
    },
    {
      "cell_type": "code",
      "execution_count": null,
      "metadata": {
        "vscode": {
          "languageId": "python"
        }
      },
      "outputs": [],
      "source": [
        "plot_histogram(variable = df['income'], bin_number = 20, xlab = 'Income ($, 000)', title = 'U.S. Income Distribution, 2013')"
      ]
    },
    {
      "cell_type": "markdown",
      "metadata": {},
      "source": [
        "If we want to produce lots of similar plots, this really helps us cut down on repetition.\n",
        "\n",
        "### Exercise\n",
        "\n",
        "1. Plot the histogram of the 'age' variable with 80 bins, label the x-axis \"Age\", and add title of 'U.S. Age Distribution, 2013'.\n",
        "2. Plot the distribution of schooling years.\n",
        "    * Find an appropriate number of bins\n",
        "    * Label it clearly\n",
        "    * Interpret salient trends"
      ]
    },
    {
      "cell_type": "code",
      "execution_count": null,
      "metadata": {
        "vscode": {
          "languageId": "python"
        }
      },
      "outputs": [],
      "source": [
        "plot_histogram(variable = df['age'], bin_number = 80, xlab = 'Age', title = 'U.S. Age Distribution, 2013')"
      ]
    },
    {
      "cell_type": "code",
      "execution_count": null,
      "metadata": {
        "colab": {
          "base_uri": "https://localhost:8080/",
          "height": 513
        },
        "id": "fzoiD0gnRUqk",
        "outputId": "228cee18-ed57-4a0b-b45d-e9a013f88794",
        "vscode": {
          "languageId": "python"
        }
      },
      "outputs": [],
      "source": [
        "plt.hist(df['sch'], bins=19,edgecolor='white', density=True)\n",
        "plt.legend()\n",
        "plt.xlabel('Schooling Years') # i've changed the x-axis label to \"xlab\" so that it can be specified when the function is called\n",
        "plt.xticks(np.arange(0, 19, step=1))\n",
        "plt.title('U.S. Schooling Year Distribution, 2013') # similarly, we can now specify the title when calling the function\n",
        "plt.show()"
      ]
    },
    {
      "cell_type": "markdown",
      "metadata": {},
      "source": [
        "## The Central Limit Theorem\n",
        "\n",
        "But as we learned in class, the Central Limit Theorem states that the **distribution of the mean of a sample of observations will be approximately normal, regardless of the distribution of the original observations**. So, if we take a **large enough sample** of observations from each of these variables, and calculate the mean of each sample, we should get a normal distribution. This is important because the normal distribution behaves in a very predictable way. \n",
        "\n",
        "The code below creates a \"standard normal\" distribution with a mean of 0 and a standard deviation of 1:"
      ]
    },
    {
      "cell_type": "code",
      "execution_count": null,
      "metadata": {
        "colab": {
          "base_uri": "https://localhost:8080/",
          "height": 483
        },
        "id": "ShIGwssrRUqm",
        "outputId": "c9cde8cf-1864-4add-f2ff-457acd7f9828",
        "vscode": {
          "languageId": "python"
        }
      },
      "outputs": [],
      "source": [
        "mu, se= 0, 1 # create two variables, a mean \"mu\" equal to zero, and standard deviation \"se\" equal to 1\n",
        "x = np.linspace(mu - 3*se, mu + 3*se, 100) # create a range of values from -3 to 3 standard deviations\n",
        "\n",
        "plt.plot(x, norm.pdf(x, mu, se)) # plot the normal distribution\n",
        "plt.axvline(mu, color='black', linestyle='solid', linewidth=1,label='µ')  # plot a vertical line at the mean\n",
        "plt.axvline(mu-se*2, color='black', linestyle='dashed', linewidth=1.5,label='µ ± 2σ') # plot a vertical line at the mean plus 2 standard deviations\n",
        "plt.axvline(mu+se*2, color='black', linestyle='dashed', linewidth=1.5)  # plot a vertical line at the mean minus 2 standard deviations\n",
        "plt.legend()\n",
        "plt.show()"
      ]
    },
    {
      "cell_type": "markdown",
      "metadata": {},
      "source": [
        "for a distribution with this shape,\n",
        "\n",
        "    * 68% of the values will be within 1 standard deviation of the mean\n",
        "    * 95.45% of the values will be within 2 standard deviations of the mean\n",
        "    * 99.7% of the values will be within 3 standard deviations of the mean\n",
        "\n",
        "so in the plot above, if I took a random value from the distribution, there's a 95% chance that it would be between -2 and 2 (within the dotted lines), and a 99.7% chance that it would be between -3 and 3. \n",
        "\n",
        "It's crucial to note, however, that this applies to the mean of a sample, not individual observations. For example, this doesnt mean that there is a 95% chance that an individual taken at random will have an income that is within 2 standard deviations of the mean ($46k). It means that if we take a sample of 100 observations, there is a 95% chance that the **mean of that sample** will be within 2 standard deviations of the mean ($46k).\n",
        "\n",
        "### Sampling\n",
        "\n",
        "To illustrate how this works, for the rest of this workshop we're going to pretend that the dataframe contains the entire adult **population** of the United States (of course, it is actually a sample but just pretend). The mean of this distribution will thus be the **population mean**; for the income variable, this is $46k. \n",
        "\n",
        "We can use the `sample` function to take a random sample of observations from a distribution. We'll take a sample of 5 observations from the income variable and use the `mean` function to calculate the mean of this sample. "
      ]
    },
    {
      "cell_type": "code",
      "execution_count": null,
      "metadata": {
        "vscode": {
          "languageId": "python"
        }
      },
      "outputs": [],
      "source": [
        "income_sample = df['income'].sample(5, replace=True) # take a random sample of 10 observations from the income variable\n",
        "income_sample_mean=income_sample.mean() # calculate the mean of the sample\n",
        "print(\"Mean: \" + str(income_sample_mean)) # print the sample mean"
      ]
    },
    {
      "cell_type": "markdown",
      "metadata": {},
      "source": [
        "### Exercise\n",
        "\n",
        "1. Run the code cell above 10 times and make note of the mean. What is the farthest the sample mean deviates from the \"population\" mean of $51k?\n",
        "2. Increase the sample size from 5 to 100 and run the cell 10 more times. Now, what is the farthest the sample mean deviates from the population mean?\n",
        "3. Increase the sample size to 1000. What do you notice about the sample means as we increase the sample size?"
      ]
    },
    {
      "cell_type": "markdown",
      "metadata": {},
      "source": [
        "Hopefully, you will have noticed that as the sample size increases, the sample means tend to be closer to the population mean. But clicking that cell is hard work. Let's create a loop that will run that block of code 10000 times, save the sample means in a list, and plot the distribution of sample means as a histogram. Once again, we'll start by only drawing samples of 10 observations:"
      ]
    },
    {
      "cell_type": "markdown",
      "metadata": {},
      "source": [
        "## 1 ."
      ]
    },
    {
      "cell_type": "code",
      "execution_count": null,
      "metadata": {
        "vscode": {
          "languageId": "python"
        }
      },
      "outputs": [],
      "source": [
        "furthest = 51\n",
        "for i in range(10):\n",
        "  income_sample = df['income'].sample(5, replace=True) # take a random sample of 10 observations from the income variable\n",
        "  income_sample_mean=income_sample.mean() # calculate the mean of the sample\n",
        "  print(\"Mean: \" + str(income_sample_mean)) # print the sample mean\n",
        "  if (income_sample_mean - 51)**2 > (furthest-51)**2:\n",
        "    furthest = income_sample_mean\n",
        "\n",
        "print(furthest - 51)"
      ]
    },
    {
      "cell_type": "markdown",
      "metadata": {},
      "source": [
        "## 2. "
      ]
    },
    {
      "cell_type": "code",
      "execution_count": null,
      "metadata": {
        "vscode": {
          "languageId": "python"
        }
      },
      "outputs": [],
      "source": [
        "furthest = 51\n",
        "for i in range(100):\n",
        "  income_sample = df['income'].sample(100, replace=True) # take a random sample of 10 observations from the income variable\n",
        "  income_sample_mean=income_sample.mean() # calculate the mean of the sample\n",
        "  #print(\"Mean: \" + str(income_sample_mean)) # print the sample mean\n",
        "  if (income_sample_mean - 51)**2 > (furthest-51)**2:\n",
        "    furthest = income_sample_mean\n",
        "\n",
        "print(furthest - 51)"
      ]
    },
    {
      "cell_type": "markdown",
      "metadata": {},
      "source": [
        "## 3. "
      ]
    },
    {
      "cell_type": "code",
      "execution_count": null,
      "metadata": {
        "vscode": {
          "languageId": "python"
        }
      },
      "outputs": [],
      "source": [
        "furthest = 51\n",
        "for i in range(100):\n",
        "  income_sample = df['income'].sample(1000, replace=True) # take a random sample of 10 observations from the income variable\n",
        "  income_sample_mean=income_sample.mean() # calculate the mean of the sample\n",
        "  #print(\"Mean: \" + str(income_sample_mean)) # print the sample mean\n",
        "  if (income_sample_mean - 51)**2 > (furthest-51)**2:\n",
        "    furthest = income_sample_mean\n",
        "\n",
        "print(furthest - 51)"
      ]
    },
    {
      "cell_type": "code",
      "execution_count": null,
      "metadata": {
        "vscode": {
          "languageId": "python"
        }
      },
      "outputs": [],
      "source": [
        "#create an empty list to store sample means\n",
        "sample_means=[]\n",
        "\n",
        "sample_size=10\n",
        "# loop 10,000 times.\n",
        "for i in range(0,10000):\n",
        "    sample= df['income'].sample(sample_size, replace=True) # draw a sample of 10 observations from the income variable, with replacement\n",
        "    sample_mean=sample.mean() # calculate the mean of the sample\n",
        "    sample_means.append(sample_mean) # append the sample mean to the list of sample means\n",
        "    \n",
        "plt.hist(sample_means, bins=30, edgecolor='white', density=True) # plot a histogram of the sample means\n",
        "plt.title('Distribution of Sample Means (n={})'.format(sample_size)) # add a title\n",
        "plt.show()"
      ]
    },
    {
      "cell_type": "markdown",
      "metadata": {},
      "source": [
        "### Exercise\n",
        " \n",
        "    1. Edit the code block above so that instead of drawing samples of 10 observations, it draws samples of 1000 observations\n",
        "    2. What happens to the distribution?"
      ]
    },
    {
      "cell_type": "code",
      "execution_count": null,
      "metadata": {
        "vscode": {
          "languageId": "python"
        }
      },
      "outputs": [],
      "source": [
        "#create an empty list to store sample means\n",
        "sample_means=[]\n",
        "\n",
        "sample_size=1000\n",
        "# loop 10,000 times.\n",
        "for i in range(0,10000):\n",
        "    sample= df['income'].sample(sample_size, replace=True) # draw a sample of 10 observations from the income variable, with replacement\n",
        "    sample_mean=sample.mean() # calculate the mean of the sample\n",
        "    sample_means.append(sample_mean) # append the sample mean to the list of sample means\n",
        "    \n",
        "plt.hist(sample_means, bins=30, edgecolor='white', density=True) # plot a histogram of the sample means\n",
        "plt.title('Distribution of Sample Means (n={})'.format(sample_size)) # add a title\n",
        "plt.show()"
      ]
    },
    {
      "cell_type": "markdown",
      "metadata": {},
      "source": [
        "When we draw 10,000 samples of 1000 observations each, the distribution of sample means looks a lot more normally distributed than the underlying distribution of income itself, which is skewed to the right. To show how normally distributed it is, let's overlay the normal distribution line we plotted earlier and fit it to the distribution of sample means. We'll start off by making the same histogram of sample means, but add a line plot of the normal distribution and some droplines at ± 2 standard deviations. \n",
        "\n",
        "Because we may want to do this for several different variables, let's once again package our code as a function in which we can swap around a couple bits. In this case, we may want to swap around the variable we're plotting, the label on the x-axis, and the size of the samples we're drawing. So we'll create a function called `plot_sample_means` that takes these three things as arguments (`var`, `xlab`, and `sample_size`)."
      ]
    },
    {
      "cell_type": "code",
      "execution_count": null,
      "metadata": {
        "vscode": {
          "languageId": "python"
        }
      },
      "outputs": [],
      "source": [
        "def plot_sample_means(var, xlab, sample_size): # define a function called plot_sample_means that takes a variable, x-axis label, and sample size as arguments\n",
        "\n",
        "    #create an empty list to store sample means\n",
        "    sample_means=[]\n",
        "\n",
        "    # loop 10,000 times.\n",
        "    for i in range(0,10000):\n",
        "        # for each iteration, draw a sample of the size specified by the \"sample_size\" parameter\n",
        "        sample=var.sample(sample_size, replace=True)\n",
        "        # calculate the mean, and append it to the list of sample means. \n",
        "        sample_mean=sample.mean()\n",
        "        sample_means.append(sample_mean)\n",
        "    \n",
        "    # now, plot a histogram \n",
        "    plt.hist(sample_means, color='blue',alpha=0.5, bins=int(30), edgecolor='white', density=True)\n",
        "    \n",
        "    # fit a normal distribution to the data \n",
        "    mu, se = norm.fit(sample_means)\n",
        "    xmin, xmax = plt.xlim()\n",
        "    x = np.linspace(xmin, xmax, 100)\n",
        "    p = norm.pdf(x, mu, se) \n",
        "    plt.plot(x, p, 'k', linewidth=2)\n",
        "\n",
        "    # calculate the difference between the mean of the sample means \n",
        "    diff=abs(mu-var.mean())\n",
        "    \n",
        "    # add droplines, labels, title, legend, and limit the x-axis range to 3 standard deviations from the mean on either side.\n",
        "    plt.axvline(mu, color='green', linestyle='solid', linewidth=3,label='µx̄='+str(round(mu, 3)))\n",
        "    plt.axvline(mu-se*2, color='black', linestyle='dashed', linewidth=1.5,label='µ ± 2σ')\n",
        "    plt.axvline(mu+se*2, color='black', linestyle='dashed', linewidth=1.5)\n",
        "    plt.legend()\n",
        "    plt.xlabel(xlab)\t\n",
        "    plt.title('Distribution of Sample Means (n={})'.format(sample_size))\n",
        "    plt.xlim(mu-se*3, mu+se*3)\n",
        "    plt.show()\t"
      ]
    },
    {
      "cell_type": "code",
      "execution_count": null,
      "metadata": {
        "vscode": {
          "languageId": "python"
        }
      },
      "outputs": [],
      "source": [
        "plot_sample_means(df['income'], xlab='Income, ($, 000)', sample_size=1000)"
      ]
    },
    {
      "cell_type": "markdown",
      "metadata": {},
      "source": [
        "We can see that the distribution of sample means (for samples of 1000 people) very closely approximates the normal distribution. The addition of droplines at ±2σ tells us that **if we take a random sample of 1000 people, there is a 95% chance that the mean of this sample will fall between ~$44.7k and ~$48.8k**. \n",
        "\n",
        "Why is this important? let's see what happens when we filter the sample based on peoples' attributes. The code below creates two dataframes: one called `men` which only contains male respondents, and one called `women` which only contains female respondents. Then, we run the `plot_sample_means()` function on each of these dataframes. "
      ]
    },
    {
      "cell_type": "code",
      "execution_count": null,
      "metadata": {
        "vscode": {
          "languageId": "python"
        }
      },
      "outputs": [],
      "source": [
        "df['sex'] = df['sex'].astype(int)\n",
        "\n",
        "men=df[df['sex']==1]['income'] # create a new dataframe containing only income values for men\n",
        "women=df[df['sex']==2]['income'] # create a new dataframe containing only income values for women\n",
        "\n",
        "plot_sample_means(men, xlab='Income, ($, 000)', sample_size=500)\n",
        "plot_sample_means(women, xlab='Income, ($, 000)', sample_size=500)"
      ]
    },
    {
      "cell_type": "markdown",
      "metadata": {},
      "source": [
        "### Exercise\n",
        "\n",
        "    1. These two histograms may look the same, but look closely at the values. \n",
        "    2. The population mean income for women is around $39.6k. Based on the histogram of sample means taken from only men, \n",
        "        * What is the likelihood of observing a sample mean of $39.6k among men due to random chance?\n",
        "    3. Interpret this finding qualitatively."
      ]
    },
    {
      "cell_type": "markdown",
      "metadata": {},
      "source": [
        "The plot of incomes for men and women show very different distributions, but they look quite similar. To make this more readable, let's define one last function that can take two or more groups and plot the distribution of their sample means on the same plot: "
      ]
    },
    {
      "cell_type": "code",
      "execution_count": null,
      "metadata": {
        "vscode": {
          "languageId": "python"
        }
      },
      "outputs": [],
      "source": [
        "def two_hist(groups,group_labs,xlab, title): # define a function called two_hist that takes a list of groups, a list of group labels, an x-axis label, and a title as arguments\n",
        "\n",
        "\t\tplt.figure(figsize=(15,6)) # set the figure size\n",
        "\n",
        "\t\tit=-1 # create a counter variable called \"it\" and set it equal to -1\n",
        "\t\tfor var in groups: # loop through each group in the list of groups\n",
        "\t\t\tit+=1 # increase the iterator by 1\n",
        "\t\t\tsample_size=1000 # set the sample size equal to 1000\n",
        "\t\t\tsample_means=[] # create an empty list to store sample means\n",
        "\t\t\titerations=10000 # set the number of iterations equal to 10,000\n",
        "\n",
        "\t\t\tfor i in range(0,iterations): # loop through the number of iterations\n",
        "\t\t\t\tsample=var.sample(sample_size, replace=True) # draw a sample of the size specified by the \"sample_size\" parameter\n",
        "\t\t\t\tsample_mean=sample.mean() # calculate the mean of the sample\n",
        "\t\t\t\tsample_means.append(sample_mean) # append the sample mean to the list of sample means\n",
        "\t\t\t\n",
        "\t\t\tplt.hist(sample_means, bins=int(iterations/300),edgecolor='white',density=True, label=group_labs[it])  # plot a histogram of the sample means\n",
        "\t\t\tmu, se = norm.fit(sample_means) # fit a normal distribution to the data\n",
        "\t\t\txmin, xmax = plt.xlim() # set the x-axis limits\n",
        "\t\t\tx = np.linspace(xmin, xmax, 100) # create a range of values from the minimum to the maximum x-axis value\n",
        "\t\t\tp = norm.pdf(x, mu, se) # calculate the probability density function for the normal distribution\n",
        "\n",
        "\t\t\tplt.plot(x, p, 'k', linewidth=2) # plot the normal distribution\n",
        "\t\t\tplt.xlabel(xlab) # add an x-axis label\n",
        "\t\t\tplt.title(title) # add a title\n",
        "\t\t\tplt.axvline(var.mean(), color='green', linestyle='solid', linewidth=3) # add a vertical line at the mean of the variable\n",
        "\t\t\tplt.axvline(mu-se*2, color='black', linestyle='dashed', linewidth=1.5)\n",
        "\t\t\tplt.axvline(mu+se*2, color='black', linestyle='dashed', linewidth=1.5)\n",
        "\t\t\tplt.legend() # add a legend\n",
        "\t\t\t\n",
        "\t\tplt.show()  # show the plot\t\n"
      ]
    },
    {
      "cell_type": "code",
      "execution_count": null,
      "metadata": {
        "vscode": {
          "languageId": "python"
        }
      },
      "outputs": [],
      "source": [
        "two_hist([men,women],['Men','Women'],'Income ($, thousands)', \"Income Sample Means\")"
      ]
    },
    {
      "cell_type": "markdown",
      "metadata": {},
      "source": [
        "There we have it: A stark, quantitative representation of the gender wage gap. \n",
        "\n",
        "If we simply compared the means between a sample of women and a sample of men, the best we could do in terms of inference would be to say something like \"the average income for men was $14.2k higher than it was for women.\" Though this is an important finding, the central limit theorem lets us add important context. \n",
        "\n",
        "    1. We took 10,000 large samples of men and calculated the means of each sample.\n",
        "    2. We found that over 99.7% of them were greater than $50,000. \n",
        "    3. We took 10,000 large samples of women and calculated the means of each sample.\n",
        "    4. We found that over 99.7% of them were smaller than $44,000.\n",
        "\n",
        "The fact that the distribution of income sample means between men and women do not overlap at all tells us that the probability of this variation in incomes being due to random chance is extremely, extremely small. Thus, we can say that the observed difference in income between men and women is **statistically significant**. \n",
        "\n",
        "# Assessed Question\n",
        "\n",
        "Given that we've used functions to create these plots, we can make plots with different data relatively easily. As a reminder, here are the values for the sex, race, and schooling variable in our dataframe:\n",
        "\n",
        "3. *sex*: the person's sex \n",
        "    * 1=male\n",
        "    * 2=female\n",
        "4. *race*: the person's race \n",
        "    * White non hispanic=1\n",
        "    * Black non hispanic=2\n",
        "    * Hispanic=3\n",
        "    * Other non hispanic=4)\n",
        "5. *sch*: Educational attainment\n",
        "    * None = 0, \n",
        "    * Grades 1-12 = 1-12\n",
        "    * Some University = 13, \n",
        "    * Associate's degree = 14, \n",
        "    * BA = 16\n",
        "    * Advanced Degree = 18\n",
        "\n",
        "Intersectionality is an important consideration when thinking about inequality. The code below allows you to create a subset of income for white men who have completed highschool: \n",
        "\n",
        "`white_highschool_men=df[(df['sex']==1)&(df['race']==1)&(df['sch']==12)]['income']`\n",
        "\n",
        "Re-use this code to create a subset of income for Hispanic women who have completed a BA degree. Use the `two_hist()` function we defined to plot the income of this group against the income of white men who have completed highschool. \n",
        "\n",
        "Which group has higher income?"
      ]
    },
    {
      "cell_type": "code",
      "execution_count": null,
      "metadata": {
        "vscode": {
          "languageId": "python"
        }
      },
      "outputs": [],
      "source": [
        "df['sch'] = df['sch'].astype(int)\n",
        "df['race'] = df['race'].astype(int)\n",
        "white_highschool_men=df[(df['sex']==1)&(df['race']==1)&(df['sch']==12)]['income']\n",
        "hispanic_BA_women=df[(df['sex']==2)&(df['race']==3)&(df['sch']==16)]['income']\n",
        "\n",
        "two_hist([white_highschool_men,hispanic_BA_women],['White Highschool Men','Hispanic BA Women'],'Income ($, thousands)', \"Income Sample Means\")\n"
      ]
    },
    {
      "cell_type": "markdown",
      "metadata": {},
      "source": [
        "White Highschool Men have a higher income."
      ]
    }
  ],
  "metadata": {
    "colab": {
      "name": "W5. Distributions and Basic Statistics.ipynb",
      "provenance": []
    },
    "kernelspec": {
      "display_name": "SageMath 10.1",
      "language": "sage",
      "name": "SageMath-10.1"
    },
    "language_info": {
      "codemirror_mode": {
        "name": "ipython",
        "version": 3
      },
      "file_extension": ".py",
      "mimetype": "text/x-python",
      "name": "sage",
      "nbconvert_exporter": "python",
      "pygments_lexer": "ipython3",
      "version": "3.11.1"
    },
    "vscode": {
      "interpreter": {
        "hash": "d34fbd810dd9652f8e464616181cf14dbb258b5c046bed5c2f54c6b5e518fed2"
      }
    }
  },
  "nbformat": 4,
  "nbformat_minor": 0
}
